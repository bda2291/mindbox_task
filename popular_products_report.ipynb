{
 "cells": [
  {
   "cell_type": "code",
   "execution_count": 1,
   "metadata": {},
   "outputs": [],
   "source": [
    "import datetime\n",
    "import unittest\n",
    "\n",
    "import numpy as np\n",
    "import pandas as pd"
   ]
  },
  {
   "cell_type": "code",
   "execution_count": 2,
   "metadata": {},
   "outputs": [],
   "source": [
    "def get_popular_products_report(orders_df, order_lines_df, n=5, dt_start=None, dt_stop=None, dt_offset=None):\n",
    "    '''Return report with key product metrics\n",
    "    :param orders_df: The DF with orders information\n",
    "    :type orders_df: DataFrame\n",
    "    :param order_lines_df: The DF with products information\n",
    "    :type order_lines_df: DataFrame\n",
    "    :param n: The amount of the most popular products for the report\n",
    "    :type n: int\n",
    "    :param dt_start: The start of the reporting interval\n",
    "    :type dt_start: datetime\n",
    "    :param dt_stop: The end of the reporting interval\n",
    "    :type dt_stop: datetime\n",
    "    :param dt_offset: The offset of the reporting interval\n",
    "    :type dt_offset: DateOffset\n",
    "    :returns: The report with key product metrics\n",
    "    :rtype: DataFrame\n",
    "    '''\n",
    "    dt_stop = dt_stop or datetime.datetime.now()\n",
    "    dt_offset = dt_offset or pd.DateOffset(months=1)\n",
    "    dt_start = dt_start or dt_stop - dt_offset\n",
    "    \n",
    "    orders_info = (orders_df[(orders_df.DateTime > dt_start) & (orders_df.DateTime <= dt_stop)]\n",
    "                   .merge(order_lines_df, on='OrderId'))\n",
    "    orders_info = orders_info.merge(\n",
    "        orders_info.groupby('OrderId', as_index=False).Price.sum().rename(columns={'Price': 'OrderPrice'}),\n",
    "        on='OrderId',\n",
    "    )\n",
    "    \n",
    "    products_info = orders_info.groupby('ProductId').agg({'Price': ['count', 'sum'], 'OrderPrice': 'mean'})\n",
    "    products_info.columns = products_info.columns.droplevel()\n",
    "    products_info = (products_info.sort_values(['count', 'sum'], ascending=False)\n",
    "                     .rename(columns={'count': 'Quantity', 'sum': 'Revenue', 'mean': 'AvgOrderPrice'})\n",
    "                     .reset_index())\n",
    "    \n",
    "    return products_info.nlargest(min(n, len(products_info)), 'Quantity')"
   ]
  },
  {
   "cell_type": "code",
   "execution_count": 3,
   "metadata": {},
   "outputs": [],
   "source": [
    "class TestProductsReport(unittest.TestCase):\n",
    "    \n",
    "    def test_add(self):\n",
    "        orders_data = {\n",
    "            'DateTime': [\n",
    "                datetime.datetime(2019, 6, 8, 12, 30),\n",
    "                datetime.datetime(2019, 6, 7, 12, 30), \n",
    "                datetime.datetime(2019, 6, 7, 12, 40),\n",
    "                datetime.datetime(2019, 5, 9, 12, 40),\n",
    "                datetime.datetime(2019, 5, 9, 12, 30),\n",
    "                datetime.datetime(2019, 5, 8, 10, 30),\n",
    "                datetime.datetime(2019, 4, 8, 10, 30)\n",
    "            ], \n",
    "            'CustomerId': [4, 0, 0, 2, 3, 1, 4], \n",
    "            'OrderId': [6, 0, 1, 3, 4, 2, 5],\n",
    "        }\n",
    "        orders_df = pd.DataFrame.from_dict(orders_data)\n",
    "        \n",
    "        order_lines_data = {\n",
    "            'OrderId': [0, 0, 1, 2, 2, 2, 3, 4, 5, 6, 6], \n",
    "            'ProductId': [2, 3, 0, 4, 4, 2, 5, 5, 6, 7, 7], \n",
    "            'Price': [10., 100., 50., 1000., 1000., 10., 555., 555., 222., 115., 115.],\n",
    "        }\n",
    "        order_lines_df = pd.DataFrame.from_dict(order_lines_data)\n",
    "        \n",
    "        result_data = [\n",
    "            (4, 2, 2000., 2010.), \n",
    "            (5, 2, 1110., 555.), \n",
    "            (2, 2, 20., 1060.), \n",
    "            (3, 1, 100., 110.),\n",
    "            (0, 1, 50., 50.),\n",
    "        ]\n",
    "        \n",
    "        result_dtypes = [\n",
    "            ('ProductId','int64'),\n",
    "            ('Quantity','int64'), \n",
    "            ('Revenue', 'float64'),\n",
    "            ('AvgOrderPrice', 'float64'),\n",
    "        ]\n",
    "        \n",
    "        result_df = pd.DataFrame(\n",
    "            np.array(result_data, dtype=result_dtypes), \n",
    "            columns=['ProductId', 'Quantity', 'Revenue', 'AvgOrderPrice']\n",
    "        )\n",
    "        \n",
    "        dt_start = datetime.datetime(2019, 5, 7)\n",
    "        dt_stop = datetime.datetime(2019, 6, 8)\n",
    "        \n",
    "        pd.util.testing.assert_frame_equal(\n",
    "            get_popular_products_report(orders_df, order_lines_df, dt_start=dt_start, dt_stop=dt_stop),\n",
    "            result_df\n",
    "        )"
   ]
  },
  {
   "cell_type": "code",
   "execution_count": 4,
   "metadata": {},
   "outputs": [
    {
     "name": "stderr",
     "output_type": "stream",
     "text": [
      ".\n",
      "----------------------------------------------------------------------\n",
      "Ran 1 test in 0.026s\n",
      "\n",
      "OK\n"
     ]
    }
   ],
   "source": [
    "unittest.main(argv=[''], exit=False);"
   ]
  },
  {
   "cell_type": "code",
   "execution_count": null,
   "metadata": {},
   "outputs": [],
   "source": []
  }
 ],
 "metadata": {
  "kernelspec": {
   "display_name": "Python 3",
   "language": "python",
   "name": "python3"
  },
  "language_info": {
   "codemirror_mode": {
    "name": "ipython",
    "version": 3
   },
   "file_extension": ".py",
   "mimetype": "text/x-python",
   "name": "python",
   "nbconvert_exporter": "python",
   "pygments_lexer": "ipython3",
   "version": "3.5.2"
  }
 },
 "nbformat": 4,
 "nbformat_minor": 2
}
